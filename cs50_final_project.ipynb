{
 "cells": [
  {
   "cell_type": "markdown",
   "metadata": {
    "slideshow": {
     "slide_type": "slide"
    }
   },
   "source": [
    "# <center> Final Project - CS50x"
   ]
  },
  {
   "cell_type": "markdown",
   "metadata": {
    "slideshow": {
     "slide_type": "slide"
    }
   },
   "source": [
    "### Name: Misfar Jalal\n",
    "### Project: <font color='green'> Driver Drowsiness Detector v.01.00 </font>"
   ]
  },
  {
   "cell_type": "markdown",
   "metadata": {
    "slideshow": {
     "slide_type": "slide"
    }
   },
   "source": [
    "GitHub: <font color='blue'>MisfarJalal</font><br>\n",
    "edX: <font color='blue'>misfarjalal</font><br>\n",
    "date: <font color='blue'>1 Aug 2024</font>"
   ]
  },
  {
   "cell_type": "markdown",
   "metadata": {
    "slideshow": {
     "slide_type": "slide"
    }
   },
   "source": [
    "## 1. Libraries Used"
   ]
  },
  {
   "cell_type": "code",
   "execution_count": 3,
   "metadata": {
    "slideshow": {
     "slide_type": "slide"
    }
   },
   "outputs": [],
   "source": [
    "import torch\n",
    "from ultralytics import YOLO\n",
    "import tkinter as tk\n",
    "import customtkinter as ctk\n",
    "import cv2\n",
    "from PIL import Image, ImageTk\n",
    "import pygame"
   ]
  },
  {
   "cell_type": "markdown",
   "metadata": {
    "slideshow": {
     "slide_type": "slide"
    }
   },
   "source": [
    "## 2. Technical Details\n",
    "<br>Model Trained: YOLOv8n\n",
    "<br>Dataset Used: coco8\n",
    "<br>Epochs: 25"
   ]
  },
  {
   "cell_type": "code",
   "execution_count": 4,
   "metadata": {
    "slideshow": {
     "slide_type": "slide"
    }
   },
   "outputs": [
    {
     "name": "stdout",
     "output_type": "stream",
     "text": [
      "Number of GPUs:True\n",
      "Number of GPUs:1\n",
      "Number of GPUs:NVIDIA GeForce RTX 3050 Laptop GPU\n"
     ]
    }
   ],
   "source": [
    "print(f\"Number of GPUs:{torch.cuda.is_available()}\")\n",
    "print(f\"Number of GPUs:{torch.cuda.device_count()}\")\n",
    "print(f\"Number of GPUs:{torch.cuda.get_device_name()}\")"
   ]
  },
  {
   "cell_type": "markdown",
   "metadata": {
    "slideshow": {
     "slide_type": "slide"
    }
   },
   "source": [
    "## 3. Features Engineering\n",
    "The following pre-processing was applied to each image:\n",
    "* Auto-orientation of pixel data (with EXIF-orientation stripping)\n",
    "* Resize to 416x416 (Fit (white edges))\n",
    "\n",
    "The following augmentation was applied to create 3 versions of each source image:\n",
    "* Randomly crop between 0 and 20 percent of the image\n",
    "* Random rotation of between -10 and +10 degrees\n",
    "* Random shear of between -5° to +5° horizontally and -5° to +5° vertically\n",
    "* Random brigthness adjustment of between -10 and +10 percent\n",
    "* Random exposure adjustment of between -10 and +10 percent\n",
    "* Random Gaussian blur of between 0 and 0.5 pixels "
   ]
  },
  {
   "cell_type": "markdown",
   "metadata": {},
   "source": [
    "# <center> Thank You!"
   ]
  }
 ],
 "metadata": {
  "kernelspec": {
   "display_name": "DLT",
   "language": "python",
   "name": "python3"
  },
  "language_info": {
   "codemirror_mode": {
    "name": "ipython",
    "version": 3
   },
   "file_extension": ".py",
   "mimetype": "text/x-python",
   "name": "python",
   "nbconvert_exporter": "python",
   "pygments_lexer": "ipython3",
   "version": "3.8.19"
  }
 },
 "nbformat": 4,
 "nbformat_minor": 2
}
